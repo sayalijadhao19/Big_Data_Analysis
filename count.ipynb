{
 "cells": [
  {
   "cell_type": "code",
   "execution_count": 1,
   "metadata": {},
   "outputs": [
    {
     "name": "stdout",
     "output_type": "stream",
     "text": [
      "lotus: 3\n",
      "group: 2\n",
      "is: 3\n",
      "a: 2\n",
      "british: 1\n",
      "multinational: 1\n",
      "automotive: 1\n",
      "manufacturer: 1\n",
      "of: 2\n",
      "luxury: 1\n",
      "sports: 2\n",
      "cars: 2\n",
      "and: 1\n",
      "electric: 1\n",
      "lifestyle: 1\n",
      "vehicles: 1\n",
      "composed: 1\n",
      "three: 1\n",
      "primary: 1\n",
      "entities: 1\n",
      "high-performance: 1\n",
      "car: 1\n",
      "company: 1\n",
      "based: 1\n",
      "in: 1\n",
      "hethel: 1\n",
      "norfolk: 1\n",
      "wikipedia: 1\n"
     ]
    }
   ],
   "source": [
    "def count_word_occurrences(file_path):\n",
    "    word_counts = {}\n",
    "    \n",
    "    # Open the file\n",
    "    with open(file_path, 'r') as file:\n",
    "        # Read the file line by line\n",
    "        for line in file:\n",
    "            # Split each line into words\n",
    "            words = line.split()\n",
    "            # Count occurrences of each word\n",
    "            for word in words:\n",
    "                # Remove punctuation marks\n",
    "                word = word.strip('.,!?;:\"()[]{}')\n",
    "                # Convert word to lowercase to ignore case sensitivity\n",
    "                word = word.lower()\n",
    "                # Increment the count for the word\n",
    "                word_counts[word] = word_counts.get(word, 0) + 1\n",
    "    \n",
    "    return word_counts\n",
    "\n",
    "def main():\n",
    "    file_path = '1.txt'\n",
    "    \n",
    "    try:\n",
    "        word_counts = count_word_occurrences(file_path)\n",
    "        \n",
    "        # Print the word counts\n",
    "        for word, count in word_counts.items():\n",
    "            print(f\"{word}: {count}\")\n",
    "    except FileNotFoundError:\n",
    "        print(\"File not found. Please enter a valid file path.\")\n",
    "\n",
    "if __name__ == \"__main__\":\n",
    "    main()\n"
   ]
  }
 ],
 "metadata": {
  "kernelspec": {
   "display_name": "Python 3",
   "language": "python",
   "name": "python3"
  },
  "language_info": {
   "codemirror_mode": {
    "name": "ipython",
    "version": 3
   },
   "file_extension": ".py",
   "mimetype": "text/x-python",
   "name": "python",
   "nbconvert_exporter": "python",
   "pygments_lexer": "ipython3",
   "version": "3.11.2"
  }
 },
 "nbformat": 4,
 "nbformat_minor": 2
}
