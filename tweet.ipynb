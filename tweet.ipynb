{
 "cells": [
  {
   "cell_type": "code",
   "execution_count": 3,
   "metadata": {},
   "outputs": [
    {
     "name": "stdout",
     "output_type": "stream",
     "text": [
      "Accuracy: 0.9611300720515737\n"
     ]
    }
   ],
   "source": [
    "import pandas as pd\n",
    "import re\n",
    "import string  # Import the string module for punctuations\n",
    "\n",
    "from sklearn.model_selection import train_test_split\n",
    "from sklearn.pipeline import Pipeline\n",
    "from sklearn.feature_extraction.text import TfidfVectorizer\n",
    "from sklearn.svm import LinearSVC\n",
    "\n",
    "# Load the training data\n",
    "train = pd.read_csv('traintweet.csv')\n",
    "\n",
    "# Convert tweets to lowercase\n",
    "train['tweet'] = train['tweet'].str.lower()\n",
    "\n",
    "# Define function to remove punctuations\n",
    "english_punctuations = string.punctuation\n",
    "punctuations_list = english_punctuations\n",
    "def cleaning_punctuations(text):\n",
    "    translator = str.maketrans('', '', punctuations_list)\n",
    "    return text.translate(translator)\n",
    "\n",
    "# Apply punctuations cleaning function to tweets\n",
    "train['tweet'] = train['tweet'].apply(lambda x: cleaning_punctuations(x))\n",
    "\n",
    "# Define function to clean email addresses\n",
    "def cleaning_email(data):\n",
    "    return re.sub('@[^\\s]+', ' ', data)\n",
    "\n",
    "# Apply email cleaning function to tweets\n",
    "train['tweet'] = train['tweet'].apply(lambda x: cleaning_email(x))\n",
    "\n",
    "# Define function to clean URLs\n",
    "def cleaning_URLs(data):\n",
    "    return re.sub('((www\\.[^\\s]+)|(https?://[^\\s]+))', ' ', data)\n",
    "\n",
    "# Apply URL cleaning function to tweets\n",
    "train['tweet'] = train['tweet'].apply(lambda x: cleaning_URLs(x))\n",
    "\n",
    "# Define function to clean numbers\n",
    "def cleaning_numbers(data):\n",
    "    return re.sub('[0-9]+', '', data)\n",
    "\n",
    "# Apply number cleaning function to tweets\n",
    "train['tweet'] = train['tweet'].apply(lambda x: cleaning_numbers(x))\n",
    "\n",
    "# Split the data into features (X) and labels (y)\n",
    "X = train['tweet']\n",
    "y = train['label']\n",
    "\n",
    "# Split the data into training and testing sets\n",
    "X_train, X_test, y_train, y_test = train_test_split(X, y, test_size=0.33, random_state=42)\n",
    "\n",
    "# Create a pipeline with TfidfVectorizer and LinearSVC\n",
    "text_clf_lsvc = Pipeline([\n",
    "    ('tfidf', TfidfVectorizer()),\n",
    "    ('clf', LinearSVC())\n",
    "])\n",
    "\n",
    "# Train the classifier\n",
    "text_clf_lsvc.fit(X_train, y_train)\n",
    "\n",
    "# Evaluate the classifier\n",
    "accuracy = text_clf_lsvc.score(X_test, y_test)\n",
    "print(\"Accuracy:\", accuracy)\n"
   ]
  },
  {
   "cell_type": "code",
   "execution_count": 4,
   "metadata": {},
   "outputs": [],
   "source": [
    "# Assuming you have already loaded and preprocessed the test data\n",
    "test = pd.read_csv('testtweet.csv')\n",
    "test['tweet'] = test['tweet'].str.lower()\n",
    "test['tweet'] = test['tweet'].apply(lambda x: cleaning_punctuations(x))\n",
    "test['tweet'] = test['tweet'].apply(lambda x: cleaning_email(x))\n",
    "test['tweet'] = test['tweet'].apply(lambda x: cleaning_URLs(x))\n",
    "test['tweet'] = test['tweet'].apply(lambda x: cleaning_numbers(x))\n",
    "\n",
    "# Get the features (X_test) for the test data\n",
    "X_test = test['tweet']\n",
    "\n",
    "# Predict labels for the test data\n",
    "predicted_labels = text_clf_lsvc.predict(X_test)\n",
    "\n",
    "# Assuming 'predicted_labels' is a numpy array containing the predicted labels\n",
    "# You can create a DataFrame with the predicted labels\n",
    "predicted_df = pd.DataFrame({'label': predicted_labels})\n",
    "\n",
    "# Now you can do whatever you want with the predicted labels DataFrame\n",
    "# For example, you can save it to a CSV file\n",
    "predicted_df.to_csv('predicted_labels.csv', index=False)\n"
   ]
  },
  {
   "cell_type": "code",
   "execution_count": null,
   "metadata": {},
   "outputs": [],
   "source": []
  }
 ],
 "metadata": {
  "kernelspec": {
   "display_name": "Python 3",
   "language": "python",
   "name": "python3"
  },
  "language_info": {
   "codemirror_mode": {
    "name": "ipython",
    "version": 3
   },
   "file_extension": ".py",
   "mimetype": "text/x-python",
   "name": "python",
   "nbconvert_exporter": "python",
   "pygments_lexer": "ipython3",
   "version": "3.11.2"
  }
 },
 "nbformat": 4,
 "nbformat_minor": 2
}
